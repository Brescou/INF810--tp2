{
 "cells": [
  {
   "cell_type": "code",
   "execution_count": 230,
   "id": "initial_id",
   "metadata": {
    "collapsed": true,
    "ExecuteTime": {
     "end_time": "2023-11-20T03:27:49.379109Z",
     "start_time": "2023-11-20T03:27:47.734923Z"
    }
   },
   "outputs": [],
   "source": [
    "\n",
    "import requests\n",
    "from fake_useragent import UserAgent\n",
    "\n",
    "ua = UserAgent()\n",
    "\n",
    "URL_IMDB = \"https://www.imdb.com/search/title/?title_type=feature&release_date=2018-01-01,2018-12-31\"\n",
    "headers = {\n",
    "    \"User-Agent\": f\"{ua.random}\",\n",
    "}\n",
    "response = requests.get(URL_IMDB, headers=headers)"
   ]
  },
  {
   "cell_type": "code",
   "execution_count": 231,
   "outputs": [
    {
     "data": {
      "text/plain": "50"
     },
     "execution_count": 231,
     "metadata": {},
     "output_type": "execute_result"
    }
   ],
   "source": [
    "from bs4 import BeautifulSoup\n",
    "import pandas as pd\n",
    "\n",
    "# df = pd.DataFrame(columns=[\"id\", \"title\", \"duration\", \"gender_list\", \"release_date\", \"user_rating\", \"nb_user_rating\"])\n",
    "\n",
    "# film_dict = [{\"id\", \"title\", \"duration\", \"gender_list\", \"release_date\", \"user_rating\", \"nb_user_rating\"}]\n",
    "\n",
    "soup = BeautifulSoup(response.text, \"html.parser\")\n",
    "list_film_elem = soup.find(\"ul\", class_=\"ipc-metadata-list--base\")\n",
    "list_film = list_film_elem.find_all(\"li\", recursive=False)\n",
    "len(list_film)"
   ],
   "metadata": {
    "collapsed": false,
    "ExecuteTime": {
     "end_time": "2023-11-20T03:27:49.720360Z",
     "start_time": "2023-11-20T03:27:49.419799Z"
    }
   },
   "id": "e6ed02b83a4be443"
  },
  {
   "cell_type": "code",
   "execution_count": 232,
   "outputs": [],
   "source": [
    "import re\n",
    "\n",
    "\n",
    "def extract_id(link):\n",
    "    regex = r\"\\/title\\/tt(\\d+)\\/\"\n",
    "    match = re.search(regex, link)\n",
    "    if match:\n",
    "        return match.group(1)\n",
    "    else:\n",
    "        return None\n"
   ],
   "metadata": {
    "collapsed": false,
    "ExecuteTime": {
     "end_time": "2023-11-20T03:27:49.753481Z",
     "start_time": "2023-11-20T03:27:49.719128Z"
    }
   },
   "id": "50f0eccba9466132"
  },
  {
   "cell_type": "code",
   "execution_count": 233,
   "outputs": [
    {
     "data": {
      "text/plain": "Films:   0%|          | 0/50 [00:00<?, ?film/s]",
      "application/vnd.jupyter.widget-view+json": {
       "version_major": 2,
       "version_minor": 0,
       "model_id": "01005e8bef3447239473434631ced186"
      }
     },
     "metadata": {},
     "output_type": "display_data"
    },
    {
     "data": {
      "text/plain": "        id                              title         duration gender_list  \\\n0  4633694  Spider-Man: Into the Spider-Verse   1hour57minutes        None   \n1  7784604                         Hereditary   2hours7minutes        None   \n2  5814060                            The Nun   1hour36minutes        None   \n3  2709692              Dr. Seuss' the Grinch   1hour25minutes        None   \n4  4154756             Avengers: Infinity War  2hours29minutes        None   \n\n                 release_date user_rating nb_user_rating  \n0  December 14, 2018 (Canada)         8.4           641K  \n1       June 8, 2018 (Canada)         7.3           362K  \n2  September 7, 2018 (Canada)         5.3           165K  \n3   November 9, 2018 (Canada)         6.4            81K  \n4     April 27, 2018 (Canada)         8.4           1.2M  ",
      "text/html": "<div>\n<style scoped>\n    .dataframe tbody tr th:only-of-type {\n        vertical-align: middle;\n    }\n\n    .dataframe tbody tr th {\n        vertical-align: top;\n    }\n\n    .dataframe thead th {\n        text-align: right;\n    }\n</style>\n<table border=\"1\" class=\"dataframe\">\n  <thead>\n    <tr style=\"text-align: right;\">\n      <th></th>\n      <th>id</th>\n      <th>title</th>\n      <th>duration</th>\n      <th>gender_list</th>\n      <th>release_date</th>\n      <th>user_rating</th>\n      <th>nb_user_rating</th>\n    </tr>\n  </thead>\n  <tbody>\n    <tr>\n      <th>0</th>\n      <td>4633694</td>\n      <td>Spider-Man: Into the Spider-Verse</td>\n      <td>1hour57minutes</td>\n      <td>None</td>\n      <td>December 14, 2018 (Canada)</td>\n      <td>8.4</td>\n      <td>641K</td>\n    </tr>\n    <tr>\n      <th>1</th>\n      <td>7784604</td>\n      <td>Hereditary</td>\n      <td>2hours7minutes</td>\n      <td>None</td>\n      <td>June 8, 2018 (Canada)</td>\n      <td>7.3</td>\n      <td>362K</td>\n    </tr>\n    <tr>\n      <th>2</th>\n      <td>5814060</td>\n      <td>The Nun</td>\n      <td>1hour36minutes</td>\n      <td>None</td>\n      <td>September 7, 2018 (Canada)</td>\n      <td>5.3</td>\n      <td>165K</td>\n    </tr>\n    <tr>\n      <th>3</th>\n      <td>2709692</td>\n      <td>Dr. Seuss' the Grinch</td>\n      <td>1hour25minutes</td>\n      <td>None</td>\n      <td>November 9, 2018 (Canada)</td>\n      <td>6.4</td>\n      <td>81K</td>\n    </tr>\n    <tr>\n      <th>4</th>\n      <td>4154756</td>\n      <td>Avengers: Infinity War</td>\n      <td>2hours29minutes</td>\n      <td>None</td>\n      <td>April 27, 2018 (Canada)</td>\n      <td>8.4</td>\n      <td>1.2M</td>\n    </tr>\n  </tbody>\n</table>\n</div>"
     },
     "execution_count": 233,
     "metadata": {},
     "output_type": "execute_result"
    }
   ],
   "source": [
    "import time\n",
    "from tqdm.notebook import tqdm\n",
    "\n",
    "extract_id(list_film[0].find(\"a\", class_=\"ipc-title-link-wrapper\").get(\"href\"))\n",
    "# extract_title(list_film[42].find(\"h3\", class_=\"ipc-title__text\").get_text(strip=True))\n",
    "film_dict = []\n",
    "for film in tqdm(list_film, total=len(list_film), desc=\"Films\", unit=\"film\", leave=True):\n",
    "    time.sleep(1)\n",
    "    response_film = requests.get(f\"https://www.imdb.com{film.find('a', class_='ipc-title-link-wrapper').get('href')}\",\n",
    "                                 headers=headers)\n",
    "    if response_film.status_code != 200:\n",
    "        break\n",
    "    soup_film = BeautifulSoup(response_film.text, \"html.parser\")\n",
    "    _id = title = duration = gender_list = release_date = user_rating = nb_user_rating = None\n",
    "    _id = extract_id(film.find(\"a\", class_=\"ipc-title-link-wrapper\").get(\"href\"))\n",
    "    if h1_title := soup_film.find(\"h1\", {\"data-testid\": \"hero__pageTitle\"}):\n",
    "        title = h1_title.find(\"span\").get_text(strip=True)\n",
    "    if li_duration := soup_film.find(\"li\", {\"data-testid\": \"title-techspec_runtime\"}):\n",
    "        duration = li_duration.find(\"div\", class_=\"ipc-metadata-list-item__content-container\").get_text(strip=True)\n",
    "    if li_gender_list := soup_film.find(\"li\", {\"data-testid\": \"storyline-genres\"}):\n",
    "        if ul_gender_list := li_gender_list.find(\"ul\",\n",
    "                                                 class_=\"ipc-inline-list ipc-inline-list--show-dividers ipc-inline-list--inline ipc-metadata-list-item__list-content base\"):\n",
    "            gender_list = []\n",
    "            for li_gender in ul_gender_list.find_all('li', recursive=False):\n",
    "                gender_list.append(li_gender.find(\"a\").get_text(strip=True))\n",
    "    if li_release_date := soup_film.find(\"li\", {\"data-testid\": \"title-details-releasedate\"}):\n",
    "        if a_release_date := li_release_date.find(\"a\", class_=\"ipc-metadata-list-item__list-content-item\"):\n",
    "            release_date = a_release_date.get_text(strip=True)\n",
    "    if div_user_rating := soup_film.find(\"div\", {\"data-testid\": \"hero-rating-bar__aggregate-rating__score\"}):\n",
    "        user_rating = div_user_rating.find(\"span\").get_text()\n",
    "        nb_user_rating = div_user_rating.parent.find_all('div')[-1].get_text()\n",
    "    film_dict.append({\n",
    "        \"id\": _id,\n",
    "        \"title\": title,\n",
    "        \"duration\": duration,\n",
    "        \"gender_list\": gender_list,\n",
    "        \"release_date\": release_date,\n",
    "        \"user_rating\": user_rating,\n",
    "        \"nb_user_rating\": nb_user_rating\n",
    "    })\n",
    "\n",
    "df = pd.DataFrame(film_dict)\n",
    "df.to_csv(\"../data/imdb.csv\", index=False)\n",
    "df.head()"
   ],
   "metadata": {
    "collapsed": false,
    "ExecuteTime": {
     "end_time": "2023-11-20T03:29:56.560178Z",
     "start_time": "2023-11-20T03:27:49.742088Z"
    }
   },
   "id": "4c020d8c3036a7ed"
  },
  {
   "cell_type": "markdown",
   "source": [
    "## 2. 2 Exploitation des donn´ees\n",
    "### 2.1 Nettoyer et coder vos donn´ees : correction d’erreurs, traitement de valeurs manquantes s’il y a lieu, ´eliminations des duplications, ´eliminations des lignes avec des valeurs ab´erantes, et correction du type des donn´ees (codage si c’est n´ecessaire)."
   ],
   "metadata": {
    "collapsed": false
   },
   "id": "d93f987966481a1a"
  },
  {
   "cell_type": "code",
   "execution_count": 364,
   "outputs": [
    {
     "data": {
      "text/plain": "   index              titre_film  utilisateur_note               genres_liste  \\\n0      0           Black Panther               7.3  Action  Adventure  Sci-Fi   \n1      1              Hereditary               7.3     Drama  Horror  Mystery   \n2      2                 Mile 22               6.1           Action  Thriller   \n3      3  Avengers: Infinity War               8.4  Action  Adventure  Sci-Fi   \n4      4                Suspiria               6.7     Drama  Fantasy  Horror   \n\n   duree    id_film nbre_utilisateur_note date_sortie           date_ext  \n0  134.0  tt1825683                758827      (2018)  February 16, 2018  \n1  127.0  tt7784604                314486      (2018)       June 8, 2018  \n2   94.0  tt4560436                 80168      (2018)    August 17, 2018  \n3  149.0  tt4154756               1069513      (2018)     April 27, 2018  \n4  152.0  tt1034415                 78980  (I) (2018)   November 2, 2018  ",
      "text/html": "<div>\n<style scoped>\n    .dataframe tbody tr th:only-of-type {\n        vertical-align: middle;\n    }\n\n    .dataframe tbody tr th {\n        vertical-align: top;\n    }\n\n    .dataframe thead th {\n        text-align: right;\n    }\n</style>\n<table border=\"1\" class=\"dataframe\">\n  <thead>\n    <tr style=\"text-align: right;\">\n      <th></th>\n      <th>index</th>\n      <th>titre_film</th>\n      <th>utilisateur_note</th>\n      <th>genres_liste</th>\n      <th>duree</th>\n      <th>id_film</th>\n      <th>nbre_utilisateur_note</th>\n      <th>date_sortie</th>\n      <th>date_ext</th>\n    </tr>\n  </thead>\n  <tbody>\n    <tr>\n      <th>0</th>\n      <td>0</td>\n      <td>Black Panther</td>\n      <td>7.3</td>\n      <td>Action  Adventure  Sci-Fi</td>\n      <td>134.0</td>\n      <td>tt1825683</td>\n      <td>758827</td>\n      <td>(2018)</td>\n      <td>February 16, 2018</td>\n    </tr>\n    <tr>\n      <th>1</th>\n      <td>1</td>\n      <td>Hereditary</td>\n      <td>7.3</td>\n      <td>Drama  Horror  Mystery</td>\n      <td>127.0</td>\n      <td>tt7784604</td>\n      <td>314486</td>\n      <td>(2018)</td>\n      <td>June 8, 2018</td>\n    </tr>\n    <tr>\n      <th>2</th>\n      <td>2</td>\n      <td>Mile 22</td>\n      <td>6.1</td>\n      <td>Action  Thriller</td>\n      <td>94.0</td>\n      <td>tt4560436</td>\n      <td>80168</td>\n      <td>(2018)</td>\n      <td>August 17, 2018</td>\n    </tr>\n    <tr>\n      <th>3</th>\n      <td>3</td>\n      <td>Avengers: Infinity War</td>\n      <td>8.4</td>\n      <td>Action  Adventure  Sci-Fi</td>\n      <td>149.0</td>\n      <td>tt4154756</td>\n      <td>1069513</td>\n      <td>(2018)</td>\n      <td>April 27, 2018</td>\n    </tr>\n    <tr>\n      <th>4</th>\n      <td>4</td>\n      <td>Suspiria</td>\n      <td>6.7</td>\n      <td>Drama  Fantasy  Horror</td>\n      <td>152.0</td>\n      <td>tt1034415</td>\n      <td>78980</td>\n      <td>(I) (2018)</td>\n      <td>November 2, 2018</td>\n    </tr>\n  </tbody>\n</table>\n</div>"
     },
     "execution_count": 364,
     "metadata": {},
     "output_type": "execute_result"
    }
   ],
   "source": [
    "df = pd.read_csv(\"../data/movie_data.csv\")\n",
    "df.head()"
   ],
   "metadata": {
    "collapsed": false,
    "ExecuteTime": {
     "end_time": "2023-11-20T04:04:40.411823Z",
     "start_time": "2023-11-20T04:04:40.142078Z"
    }
   },
   "id": "f35affd766955a91"
  },
  {
   "cell_type": "code",
   "execution_count": 365,
   "outputs": [
    {
     "data": {
      "text/plain": "               titre_film  utilisateur_note               genres_liste  duree  \\\n0           Black Panther               7.3  Action  Adventure  Sci-Fi  134.0   \n1              Hereditary               7.3     Drama  Horror  Mystery  127.0   \n2                 Mile 22               6.1           Action  Thriller   94.0   \n3  Avengers: Infinity War               8.4  Action  Adventure  Sci-Fi  149.0   \n4                Suspiria               6.7     Drama  Fantasy  Horror  152.0   \n\n     id_film nbre_utilisateur_note date_sortie           date_ext  \n0  tt1825683                758827      (2018)  February 16, 2018  \n1  tt7784604                314486      (2018)       June 8, 2018  \n2  tt4560436                 80168      (2018)    August 17, 2018  \n3  tt4154756               1069513      (2018)     April 27, 2018  \n4  tt1034415                 78980  (I) (2018)   November 2, 2018  ",
      "text/html": "<div>\n<style scoped>\n    .dataframe tbody tr th:only-of-type {\n        vertical-align: middle;\n    }\n\n    .dataframe tbody tr th {\n        vertical-align: top;\n    }\n\n    .dataframe thead th {\n        text-align: right;\n    }\n</style>\n<table border=\"1\" class=\"dataframe\">\n  <thead>\n    <tr style=\"text-align: right;\">\n      <th></th>\n      <th>titre_film</th>\n      <th>utilisateur_note</th>\n      <th>genres_liste</th>\n      <th>duree</th>\n      <th>id_film</th>\n      <th>nbre_utilisateur_note</th>\n      <th>date_sortie</th>\n      <th>date_ext</th>\n    </tr>\n  </thead>\n  <tbody>\n    <tr>\n      <th>0</th>\n      <td>Black Panther</td>\n      <td>7.3</td>\n      <td>Action  Adventure  Sci-Fi</td>\n      <td>134.0</td>\n      <td>tt1825683</td>\n      <td>758827</td>\n      <td>(2018)</td>\n      <td>February 16, 2018</td>\n    </tr>\n    <tr>\n      <th>1</th>\n      <td>Hereditary</td>\n      <td>7.3</td>\n      <td>Drama  Horror  Mystery</td>\n      <td>127.0</td>\n      <td>tt7784604</td>\n      <td>314486</td>\n      <td>(2018)</td>\n      <td>June 8, 2018</td>\n    </tr>\n    <tr>\n      <th>2</th>\n      <td>Mile 22</td>\n      <td>6.1</td>\n      <td>Action  Thriller</td>\n      <td>94.0</td>\n      <td>tt4560436</td>\n      <td>80168</td>\n      <td>(2018)</td>\n      <td>August 17, 2018</td>\n    </tr>\n    <tr>\n      <th>3</th>\n      <td>Avengers: Infinity War</td>\n      <td>8.4</td>\n      <td>Action  Adventure  Sci-Fi</td>\n      <td>149.0</td>\n      <td>tt4154756</td>\n      <td>1069513</td>\n      <td>(2018)</td>\n      <td>April 27, 2018</td>\n    </tr>\n    <tr>\n      <th>4</th>\n      <td>Suspiria</td>\n      <td>6.7</td>\n      <td>Drama  Fantasy  Horror</td>\n      <td>152.0</td>\n      <td>tt1034415</td>\n      <td>78980</td>\n      <td>(I) (2018)</td>\n      <td>November 2, 2018</td>\n    </tr>\n  </tbody>\n</table>\n</div>"
     },
     "execution_count": 365,
     "metadata": {},
     "output_type": "execute_result"
    }
   ],
   "source": [
    "df.drop(columns=['index'], inplace=True)\n",
    "df.head()"
   ],
   "metadata": {
    "collapsed": false,
    "ExecuteTime": {
     "end_time": "2023-11-20T04:04:40.412330Z",
     "start_time": "2023-11-20T04:04:40.186371Z"
    }
   },
   "id": "d41016ae66c6679a"
  },
  {
   "cell_type": "code",
   "execution_count": 366,
   "outputs": [
    {
     "name": "stdout",
     "output_type": "stream",
     "text": [
      "<class 'pandas.core.frame.DataFrame'>\n",
      "RangeIndex: 12909 entries, 0 to 12908\n",
      "Data columns (total 8 columns):\n",
      " #   Column                 Non-Null Count  Dtype  \n",
      "---  ------                 --------------  -----  \n",
      " 0   titre_film             12909 non-null  object \n",
      " 1   utilisateur_note       7642 non-null   float64\n",
      " 2   genres_liste           12189 non-null  object \n",
      " 3   duree                  9772 non-null   float64\n",
      " 4   id_film                12909 non-null  object \n",
      " 5   nbre_utilisateur_note  7645 non-null   object \n",
      " 6   date_sortie            12840 non-null  object \n",
      " 7   date_ext               12909 non-null  object \n",
      "dtypes: float64(2), object(6)\n",
      "memory usage: 806.9+ KB\n"
     ]
    }
   ],
   "source": [
    "df.info()"
   ],
   "metadata": {
    "collapsed": false,
    "ExecuteTime": {
     "end_time": "2023-11-20T04:04:40.412541Z",
     "start_time": "2023-11-20T04:04:40.203555Z"
    }
   },
   "id": "154a83d5f2384667"
  },
  {
   "cell_type": "code",
   "execution_count": 367,
   "outputs": [
    {
     "data": {
      "text/plain": "       utilisateur_note        duree\ncount       7642.000000  9772.000000\nmean           5.859827    96.861543\nstd            1.435517    28.714294\nmin            1.000000     2.000000\n25%            5.000000    83.000000\n50%            6.000000    93.000000\n75%            6.800000   109.000000\nmax           10.000000   808.000000",
      "text/html": "<div>\n<style scoped>\n    .dataframe tbody tr th:only-of-type {\n        vertical-align: middle;\n    }\n\n    .dataframe tbody tr th {\n        vertical-align: top;\n    }\n\n    .dataframe thead th {\n        text-align: right;\n    }\n</style>\n<table border=\"1\" class=\"dataframe\">\n  <thead>\n    <tr style=\"text-align: right;\">\n      <th></th>\n      <th>utilisateur_note</th>\n      <th>duree</th>\n    </tr>\n  </thead>\n  <tbody>\n    <tr>\n      <th>count</th>\n      <td>7642.000000</td>\n      <td>9772.000000</td>\n    </tr>\n    <tr>\n      <th>mean</th>\n      <td>5.859827</td>\n      <td>96.861543</td>\n    </tr>\n    <tr>\n      <th>std</th>\n      <td>1.435517</td>\n      <td>28.714294</td>\n    </tr>\n    <tr>\n      <th>min</th>\n      <td>1.000000</td>\n      <td>2.000000</td>\n    </tr>\n    <tr>\n      <th>25%</th>\n      <td>5.000000</td>\n      <td>83.000000</td>\n    </tr>\n    <tr>\n      <th>50%</th>\n      <td>6.000000</td>\n      <td>93.000000</td>\n    </tr>\n    <tr>\n      <th>75%</th>\n      <td>6.800000</td>\n      <td>109.000000</td>\n    </tr>\n    <tr>\n      <th>max</th>\n      <td>10.000000</td>\n      <td>808.000000</td>\n    </tr>\n  </tbody>\n</table>\n</div>"
     },
     "execution_count": 367,
     "metadata": {},
     "output_type": "execute_result"
    }
   ],
   "source": [
    "df.describe()"
   ],
   "metadata": {
    "collapsed": false,
    "ExecuteTime": {
     "end_time": "2023-11-20T04:04:40.412874Z",
     "start_time": "2023-11-20T04:04:40.213494Z"
    }
   },
   "id": "ad459b4d0d476cdf"
  },
  {
   "cell_type": "code",
   "execution_count": 368,
   "outputs": [
    {
     "data": {
      "text/plain": "titre_film                object\nutilisateur_note         float64\ngenres_liste              object\nduree                    float64\nid_film                   object\nnbre_utilisateur_note     object\ndate_sortie               object\ndate_ext                  object\ndtype: object"
     },
     "execution_count": 368,
     "metadata": {},
     "output_type": "execute_result"
    }
   ],
   "source": [
    "df.dtypes"
   ],
   "metadata": {
    "collapsed": false,
    "ExecuteTime": {
     "end_time": "2023-11-20T04:04:40.461543Z",
     "start_time": "2023-11-20T04:04:40.232231Z"
    }
   },
   "id": "b59e1b45a0ae073d"
  },
  {
   "cell_type": "code",
   "execution_count": 369,
   "outputs": [
    {
     "data": {
      "text/plain": "titre_film                  0\nutilisateur_note         5267\ngenres_liste              720\nduree                    3137\nid_film                     0\nnbre_utilisateur_note    5264\ndate_sortie                69\ndate_ext                    0\ndtype: int64"
     },
     "execution_count": 369,
     "metadata": {},
     "output_type": "execute_result"
    }
   ],
   "source": [
    "df.isna().sum()"
   ],
   "metadata": {
    "collapsed": false,
    "ExecuteTime": {
     "end_time": "2023-11-20T04:04:40.461916Z",
     "start_time": "2023-11-20T04:04:40.243208Z"
    }
   },
   "id": "40b87597b9c0b6f"
  },
  {
   "cell_type": "code",
   "execution_count": 370,
   "outputs": [
    {
     "data": {
      "text/plain": "<Figure size 2000x500 with 1 Axes>",
      "image/png": "[encoded data removed]"
     },
     "metadata": {},
     "output_type": "display_data"
    }
   ],
   "source": [
    "#box plot duree\n",
    "import seaborn as sns\n",
    "import matplotlib.pyplot as plt\n",
    "\n",
    "plt.figure(figsize=(20, 5))\n",
    "sns.boxplot(x=df['duree'])\n",
    "plt.show()"
   ],
   "metadata": {
    "collapsed": false,
    "ExecuteTime": {
     "end_time": "2023-11-20T04:04:40.705343Z",
     "start_time": "2023-11-20T04:04:40.252013Z"
    }
   },
   "id": "28b568f4006768c7"
  },
  {
   "cell_type": "code",
   "execution_count": 371,
   "outputs": [],
   "source": [
    "def delete_outliers(df, col):\n",
    "    q1 = df[col].quantile(0.25)\n",
    "    q3 = df[col].quantile(0.75)\n",
    "    iqr = q3 - q1\n",
    "    print(df.shape[0] - df[(df[col] > (q1 - 1.5 * iqr)) & (df[col] < (q3 + 1.5 * iqr))].shape[0], \"outliers\")\n",
    "    df = df[(df[col] > (q1 - 1.5 * iqr)) & (df[col] < (q3 + 1.5 * iqr))]\n",
    "    return df"
   ],
   "metadata": {
    "collapsed": false,
    "ExecuteTime": {
     "end_time": "2023-11-20T04:04:40.705641Z",
     "start_time": "2023-11-20T04:04:40.548253Z"
    }
   },
   "id": "fed76d0903d860f6"
  },
  {
   "cell_type": "code",
   "execution_count": 372,
   "outputs": [
    {
     "name": "stdout",
     "output_type": "stream",
     "text": [
      "3505 outliers\n"
     ]
    }
   ],
   "source": [
    "df = delete_outliers(df, 'duree')"
   ],
   "metadata": {
    "collapsed": false,
    "ExecuteTime": {
     "end_time": "2023-11-20T04:04:40.705896Z",
     "start_time": "2023-11-20T04:04:40.552613Z"
    }
   },
   "id": "b4dca322c556f231"
  },
  {
   "cell_type": "code",
   "execution_count": 373,
   "outputs": [
    {
     "data": {
      "text/plain": "<Figure size 2000x500 with 1 Axes>",
      "image/png": "[encoded data removed]"
     },
     "metadata": {},
     "output_type": "display_data"
    }
   ],
   "source": [
    "plt.figure(figsize=(20, 5))\n",
    "sns.boxplot(x=df['duree'])\n",
    "plt.show()"
   ],
   "metadata": {
    "collapsed": false,
    "ExecuteTime": {
     "end_time": "2023-11-20T04:04:41.118983Z",
     "start_time": "2023-11-20T04:04:40.564217Z"
    }
   },
   "id": "21fb98b07454107b"
  },
  {
   "cell_type": "code",
   "execution_count": 374,
   "outputs": [],
   "source": [
    "import numpy as np\n",
    "\n",
    "\n",
    "def convert_nb_user_rating(value):\n",
    "    if pd.isna(value):\n",
    "        return np.nan\n",
    "    if isinstance(value, int):\n",
    "        return value\n",
    "    try:\n",
    "        return int(value)\n",
    "    except ValueError:\n",
    "        return np.nan"
   ],
   "metadata": {
    "collapsed": false,
    "ExecuteTime": {
     "end_time": "2023-11-20T04:04:41.119150Z",
     "start_time": "2023-11-20T04:04:40.818103Z"
    }
   },
   "id": "4ee2f51b5c6d61f0"
  },
  {
   "cell_type": "code",
   "execution_count": 375,
   "outputs": [
    {
     "name": "stdout",
     "output_type": "stream",
     "text": [
      "1557 outliers\n"
     ]
    },
    {
     "data": {
      "text/plain": "titre_film                object\nutilisateur_note         float64\ngenres_liste              object\nduree                    float64\nid_film                   object\nnbre_utilisateur_note      int64\ndate_sortie               object\ndate_ext                  object\ndtype: object"
     },
     "execution_count": 375,
     "metadata": {},
     "output_type": "execute_result"
    }
   ],
   "source": [
    "df['nbre_utilisateur_note'] = df['nbre_utilisateur_note'].apply(convert_nb_user_rating)\n",
    "df['nbre_utilisateur_note'].fillna(df['nbre_utilisateur_note'].median(), inplace=True)\n",
    "df = delete_outliers(df, 'nbre_utilisateur_note')\n",
    "df = df.astype({'nbre_utilisateur_note': 'int64'})\n",
    "df.dtypes\n"
   ],
   "metadata": {
    "collapsed": false,
    "ExecuteTime": {
     "end_time": "2023-11-20T04:04:41.119455Z",
     "start_time": "2023-11-20T04:04:40.836444Z"
    }
   },
   "id": "b6f3a3972dce2444"
  },
  {
   "cell_type": "code",
   "execution_count": 376,
   "outputs": [
    {
     "data": {
      "text/plain": "['Action', 'Adventure', 'Sci-Fi']"
     },
     "execution_count": 376,
     "metadata": {},
     "output_type": "execute_result"
    }
   ],
   "source": [
    "def split_genre(value):\n",
    "    if pd.isna(value):\n",
    "        return []\n",
    "    return value.split('  ')\n",
    "\n",
    "\n",
    "split_genre('Action  Adventure  Sci-Fi')"
   ],
   "metadata": {
    "collapsed": false,
    "ExecuteTime": {
     "end_time": "2023-11-20T04:04:41.119629Z",
     "start_time": "2023-11-20T04:04:40.858529Z"
    }
   },
   "id": "fbc50d7f631973a5"
  },
  {
   "cell_type": "code",
   "execution_count": 377,
   "outputs": [
    {
     "data": {
      "text/plain": "                   titre_film  utilisateur_note                genres_liste  \\\n102  Strangeways Here We Come               5.1             [Comedy, Crime]   \n258       Virndavani Vairagya               6.6                     [Drama]   \n259                Dirty Work               3.3  [Drama, Romance, Thriller]   \n280                Peripheral               4.8            [Horror, Sci-Fi]   \n297                       Mar               5.5                     [Drama]   \n\n     duree    id_film  nbre_utilisateur_note date_sortie          date_ext  \n102   86.0  tt4299774                    334      (2018)   October 5, 2018  \n258   91.0  tt9675282                     25      (2018)     April 3, 2018  \n259   73.0  tt7243754                    380      (2018)  February 3, 2018  \n280   89.0  tt5658672                    224  (I) (2018)    August 3, 2020  \n297  103.0  tt7490386                     49  (I) (2018)      May 16, 2019  ",
      "text/html": "<div>\n<style scoped>\n    .dataframe tbody tr th:only-of-type {\n        vertical-align: middle;\n    }\n\n    .dataframe tbody tr th {\n        vertical-align: top;\n    }\n\n    .dataframe thead th {\n        text-align: right;\n    }\n</style>\n<table border=\"1\" class=\"dataframe\">\n  <thead>\n    <tr style=\"text-align: right;\">\n      <th></th>\n      <th>titre_film</th>\n      <th>utilisateur_note</th>\n      <th>genres_liste</th>\n      <th>duree</th>\n      <th>id_film</th>\n      <th>nbre_utilisateur_note</th>\n      <th>date_sortie</th>\n      <th>date_ext</th>\n    </tr>\n  </thead>\n  <tbody>\n    <tr>\n      <th>102</th>\n      <td>Strangeways Here We Come</td>\n      <td>5.1</td>\n      <td>[Comedy, Crime]</td>\n      <td>86.0</td>\n      <td>tt4299774</td>\n      <td>334</td>\n      <td>(2018)</td>\n      <td>October 5, 2018</td>\n    </tr>\n    <tr>\n      <th>258</th>\n      <td>Virndavani Vairagya</td>\n      <td>6.6</td>\n      <td>[Drama]</td>\n      <td>91.0</td>\n      <td>tt9675282</td>\n      <td>25</td>\n      <td>(2018)</td>\n      <td>April 3, 2018</td>\n    </tr>\n    <tr>\n      <th>259</th>\n      <td>Dirty Work</td>\n      <td>3.3</td>\n      <td>[Drama, Romance, Thriller]</td>\n      <td>73.0</td>\n      <td>tt7243754</td>\n      <td>380</td>\n      <td>(2018)</td>\n      <td>February 3, 2018</td>\n    </tr>\n    <tr>\n      <th>280</th>\n      <td>Peripheral</td>\n      <td>4.8</td>\n      <td>[Horror, Sci-Fi]</td>\n      <td>89.0</td>\n      <td>tt5658672</td>\n      <td>224</td>\n      <td>(I) (2018)</td>\n      <td>August 3, 2020</td>\n    </tr>\n    <tr>\n      <th>297</th>\n      <td>Mar</td>\n      <td>5.5</td>\n      <td>[Drama]</td>\n      <td>103.0</td>\n      <td>tt7490386</td>\n      <td>49</td>\n      <td>(I) (2018)</td>\n      <td>May 16, 2019</td>\n    </tr>\n  </tbody>\n</table>\n</div>"
     },
     "execution_count": 377,
     "metadata": {},
     "output_type": "execute_result"
    }
   ],
   "source": [
    "df['genres_liste'] = df['genres_liste'].apply(lambda x: split_genre(x))\n",
    "df.head()"
   ],
   "metadata": {
    "collapsed": false,
    "ExecuteTime": {
     "end_time": "2023-11-20T04:04:41.120018Z",
     "start_time": "2023-11-20T04:04:40.888367Z"
    }
   },
   "id": "a2f1e91e17cda31f"
  },
  {
   "cell_type": "code",
   "execution_count": 378,
   "outputs": [
    {
     "data": {
      "text/plain": "                   titre_film  utilisateur_note                genres_liste  \\\n102  Strangeways Here We Come               5.1             [Comedy, Crime]   \n258       Virndavani Vairagya               6.6                     [Drama]   \n259                Dirty Work               3.3  [Drama, Romance, Thriller]   \n280                Peripheral               4.8            [Horror, Sci-Fi]   \n297                       Mar               5.5                     [Drama]   \n\n     duree    id_film  nbre_utilisateur_note date_sortie          date_ext  \\\n102   86.0  tt4299774                    334      (2018)   October 5, 2018   \n258   91.0  tt9675282                     25      (2018)     April 3, 2018   \n259   73.0  tt7243754                    380      (2018)  February 3, 2018   \n280   89.0  tt5658672                    224  (I) (2018)    August 3, 2020   \n297  103.0  tt7490386                     49  (I) (2018)      May 16, 2019   \n\n     Drama  Comedy  Thriller  Horror  Romance  autres_genres  \n102      0       1         0       0        0              1  \n258      1       0         0       0        0              0  \n259      1       0         1       0        1              0  \n280      0       0         0       1        0              1  \n297      1       0         0       0        0              0  ",
      "text/html": "<div>\n<style scoped>\n    .dataframe tbody tr th:only-of-type {\n        vertical-align: middle;\n    }\n\n    .dataframe tbody tr th {\n        vertical-align: top;\n    }\n\n    .dataframe thead th {\n        text-align: right;\n    }\n</style>\n<table border=\"1\" class=\"dataframe\">\n  <thead>\n    <tr style=\"text-align: right;\">\n      <th></th>\n      <th>titre_film</th>\n      <th>utilisateur_note</th>\n      <th>genres_liste</th>\n      <th>duree</th>\n      <th>id_film</th>\n      <th>nbre_utilisateur_note</th>\n      <th>date_sortie</th>\n      <th>date_ext</th>\n      <th>Drama</th>\n      <th>Comedy</th>\n      <th>Thriller</th>\n      <th>Horror</th>\n      <th>Romance</th>\n      <th>autres_genres</th>\n    </tr>\n  </thead>\n  <tbody>\n    <tr>\n      <th>102</th>\n      <td>Strangeways Here We Come</td>\n      <td>5.1</td>\n      <td>[Comedy, Crime]</td>\n      <td>86.0</td>\n      <td>tt4299774</td>\n      <td>334</td>\n      <td>(2018)</td>\n      <td>October 5, 2018</td>\n      <td>0</td>\n      <td>1</td>\n      <td>0</td>\n      <td>0</td>\n      <td>0</td>\n      <td>1</td>\n    </tr>\n    <tr>\n      <th>258</th>\n      <td>Virndavani Vairagya</td>\n      <td>6.6</td>\n      <td>[Drama]</td>\n      <td>91.0</td>\n      <td>tt9675282</td>\n      <td>25</td>\n      <td>(2018)</td>\n      <td>April 3, 2018</td>\n      <td>1</td>\n      <td>0</td>\n      <td>0</td>\n      <td>0</td>\n      <td>0</td>\n      <td>0</td>\n    </tr>\n    <tr>\n      <th>259</th>\n      <td>Dirty Work</td>\n      <td>3.3</td>\n      <td>[Drama, Romance, Thriller]</td>\n      <td>73.0</td>\n      <td>tt7243754</td>\n      <td>380</td>\n      <td>(2018)</td>\n      <td>February 3, 2018</td>\n      <td>1</td>\n      <td>0</td>\n      <td>1</td>\n      <td>0</td>\n      <td>1</td>\n      <td>0</td>\n    </tr>\n    <tr>\n      <th>280</th>\n      <td>Peripheral</td>\n      <td>4.8</td>\n      <td>[Horror, Sci-Fi]</td>\n      <td>89.0</td>\n      <td>tt5658672</td>\n      <td>224</td>\n      <td>(I) (2018)</td>\n      <td>August 3, 2020</td>\n      <td>0</td>\n      <td>0</td>\n      <td>0</td>\n      <td>1</td>\n      <td>0</td>\n      <td>1</td>\n    </tr>\n    <tr>\n      <th>297</th>\n      <td>Mar</td>\n      <td>5.5</td>\n      <td>[Drama]</td>\n      <td>103.0</td>\n      <td>tt7490386</td>\n      <td>49</td>\n      <td>(I) (2018)</td>\n      <td>May 16, 2019</td>\n      <td>1</td>\n      <td>0</td>\n      <td>0</td>\n      <td>0</td>\n      <td>0</td>\n      <td>0</td>\n    </tr>\n  </tbody>\n</table>\n</div>"
     },
     "execution_count": 378,
     "metadata": {},
     "output_type": "execute_result"
    }
   ],
   "source": [
    "top_5_genres = df['genres_liste'].explode().value_counts().head(5).index\n",
    "for genre in top_5_genres:\n",
    "    df[genre] = df['genres_liste'].apply(lambda x: 1 if genre in x else 0)\n",
    "\n",
    "\n",
    "def other_genres(row):\n",
    "    return 1 if any(genre not in top_5_genres for genre in row) else 0\n",
    "\n",
    "\n",
    "df['autres_genres'] = df['genres_liste'].apply(other_genres)\n",
    "\n",
    "df.head()"
   ],
   "metadata": {
    "collapsed": false,
    "ExecuteTime": {
     "end_time": "2023-11-20T04:04:41.158018Z",
     "start_time": "2023-11-20T04:04:40.917826Z"
    }
   },
   "id": "31705a4f54e21ee2"
  },
  {
   "cell_type": "code",
   "execution_count": 382,
   "outputs": [
    {
     "data": {
      "text/plain": "                   titre_film  utilisateur_note                genres_liste  \\\n102  Strangeways Here We Come               5.1             [Comedy, Crime]   \n258       Virndavani Vairagya               6.6                     [Drama]   \n259                Dirty Work               3.3  [Drama, Romance, Thriller]   \n280                Peripheral               4.8            [Horror, Sci-Fi]   \n297                       Mar               5.5                     [Drama]   \n\n     duree    id_film  nbre_utilisateur_note          date_ext  Drama  Comedy  \\\n102   86.0  tt4299774                    334   October 5, 2018      0       1   \n258   91.0  tt9675282                     25     April 3, 2018      1       0   \n259   73.0  tt7243754                    380  February 3, 2018      1       0   \n280   89.0  tt5658672                    224    August 3, 2020      0       0   \n297  103.0  tt7490386                     49      May 16, 2019      1       0   \n\n     Thriller  Horror  Romance  autres_genres  \n102         0       0        0              1  \n258         0       0        0              0  \n259         1       0        1              0  \n280         0       1        0              1  \n297         0       0        0              0  ",
      "text/html": "<div>\n<style scoped>\n    .dataframe tbody tr th:only-of-type {\n        vertical-align: middle;\n    }\n\n    .dataframe tbody tr th {\n        vertical-align: top;\n    }\n\n    .dataframe thead th {\n        text-align: right;\n    }\n</style>\n<table border=\"1\" class=\"dataframe\">\n  <thead>\n    <tr style=\"text-align: right;\">\n      <th></th>\n      <th>titre_film</th>\n      <th>utilisateur_note</th>\n      <th>genres_liste</th>\n      <th>duree</th>\n      <th>id_film</th>\n      <th>nbre_utilisateur_note</th>\n      <th>date_ext</th>\n      <th>Drama</th>\n      <th>Comedy</th>\n      <th>Thriller</th>\n      <th>Horror</th>\n      <th>Romance</th>\n      <th>autres_genres</th>\n    </tr>\n  </thead>\n  <tbody>\n    <tr>\n      <th>102</th>\n      <td>Strangeways Here We Come</td>\n      <td>5.1</td>\n      <td>[Comedy, Crime]</td>\n      <td>86.0</td>\n      <td>tt4299774</td>\n      <td>334</td>\n      <td>October 5, 2018</td>\n      <td>0</td>\n      <td>1</td>\n      <td>0</td>\n      <td>0</td>\n      <td>0</td>\n      <td>1</td>\n    </tr>\n    <tr>\n      <th>258</th>\n      <td>Virndavani Vairagya</td>\n      <td>6.6</td>\n      <td>[Drama]</td>\n      <td>91.0</td>\n      <td>tt9675282</td>\n      <td>25</td>\n      <td>April 3, 2018</td>\n      <td>1</td>\n      <td>0</td>\n      <td>0</td>\n      <td>0</td>\n      <td>0</td>\n      <td>0</td>\n    </tr>\n    <tr>\n      <th>259</th>\n      <td>Dirty Work</td>\n      <td>3.3</td>\n      <td>[Drama, Romance, Thriller]</td>\n      <td>73.0</td>\n      <td>tt7243754</td>\n      <td>380</td>\n      <td>February 3, 2018</td>\n      <td>1</td>\n      <td>0</td>\n      <td>1</td>\n      <td>0</td>\n      <td>1</td>\n      <td>0</td>\n    </tr>\n    <tr>\n      <th>280</th>\n      <td>Peripheral</td>\n      <td>4.8</td>\n      <td>[Horror, Sci-Fi]</td>\n      <td>89.0</td>\n      <td>tt5658672</td>\n      <td>224</td>\n      <td>August 3, 2020</td>\n      <td>0</td>\n      <td>0</td>\n      <td>0</td>\n      <td>1</td>\n      <td>0</td>\n      <td>1</td>\n    </tr>\n    <tr>\n      <th>297</th>\n      <td>Mar</td>\n      <td>5.5</td>\n      <td>[Drama]</td>\n      <td>103.0</td>\n      <td>tt7490386</td>\n      <td>49</td>\n      <td>May 16, 2019</td>\n      <td>1</td>\n      <td>0</td>\n      <td>0</td>\n      <td>0</td>\n      <td>0</td>\n      <td>0</td>\n    </tr>\n  </tbody>\n</table>\n</div>"
     },
     "execution_count": 382,
     "metadata": {},
     "output_type": "execute_result"
    }
   ],
   "source": [
    "df.drop(columns=['date_sortie'], inplace=True)\n",
    "df.head()"
   ],
   "metadata": {
    "collapsed": false,
    "ExecuteTime": {
     "end_time": "2023-11-20T04:17:41.804799Z",
     "start_time": "2023-11-20T04:17:41.781234Z"
    }
   },
   "id": "95c8fbd79fc7146b"
  },
  {
   "cell_type": "code",
   "execution_count": 386,
   "outputs": [
    {
     "data": {
      "text/plain": "                   titre_film  utilisateur_note                genres_liste  \\\n102  Strangeways Here We Come               5.1             [Comedy, Crime]   \n258       Virndavani Vairagya               6.6                     [Drama]   \n259                Dirty Work               3.3  [Drama, Romance, Thriller]   \n280                Peripheral               4.8            [Horror, Sci-Fi]   \n297                       Mar               5.5                     [Drama]   \n\n     duree    id_film  nbre_utilisateur_note   date_ext  Drama  Comedy  \\\n102   86.0  tt4299774                    334 2018-10-05      0       1   \n258   91.0  tt9675282                     25 2018-04-03      1       0   \n259   73.0  tt7243754                    380 2018-02-03      1       0   \n280   89.0  tt5658672                    224 2020-08-03      0       0   \n297  103.0  tt7490386                     49 2019-05-16      1       0   \n\n     Thriller  Horror  Romance  autres_genres  \n102         0       0        0              1  \n258         0       0        0              0  \n259         1       0        1              0  \n280         0       1        0              1  \n297         0       0        0              0  ",
      "text/html": "<div>\n<style scoped>\n    .dataframe tbody tr th:only-of-type {\n        vertical-align: middle;\n    }\n\n    .dataframe tbody tr th {\n        vertical-align: top;\n    }\n\n    .dataframe thead th {\n        text-align: right;\n    }\n</style>\n<table border=\"1\" class=\"dataframe\">\n  <thead>\n    <tr style=\"text-align: right;\">\n      <th></th>\n      <th>titre_film</th>\n      <th>utilisateur_note</th>\n      <th>genres_liste</th>\n      <th>duree</th>\n      <th>id_film</th>\n      <th>nbre_utilisateur_note</th>\n      <th>date_ext</th>\n      <th>Drama</th>\n      <th>Comedy</th>\n      <th>Thriller</th>\n      <th>Horror</th>\n      <th>Romance</th>\n      <th>autres_genres</th>\n    </tr>\n  </thead>\n  <tbody>\n    <tr>\n      <th>102</th>\n      <td>Strangeways Here We Come</td>\n      <td>5.1</td>\n      <td>[Comedy, Crime]</td>\n      <td>86.0</td>\n      <td>tt4299774</td>\n      <td>334</td>\n      <td>2018-10-05</td>\n      <td>0</td>\n      <td>1</td>\n      <td>0</td>\n      <td>0</td>\n      <td>0</td>\n      <td>1</td>\n    </tr>\n    <tr>\n      <th>258</th>\n      <td>Virndavani Vairagya</td>\n      <td>6.6</td>\n      <td>[Drama]</td>\n      <td>91.0</td>\n      <td>tt9675282</td>\n      <td>25</td>\n      <td>2018-04-03</td>\n      <td>1</td>\n      <td>0</td>\n      <td>0</td>\n      <td>0</td>\n      <td>0</td>\n      <td>0</td>\n    </tr>\n    <tr>\n      <th>259</th>\n      <td>Dirty Work</td>\n      <td>3.3</td>\n      <td>[Drama, Romance, Thriller]</td>\n      <td>73.0</td>\n      <td>tt7243754</td>\n      <td>380</td>\n      <td>2018-02-03</td>\n      <td>1</td>\n      <td>0</td>\n      <td>1</td>\n      <td>0</td>\n      <td>1</td>\n      <td>0</td>\n    </tr>\n    <tr>\n      <th>280</th>\n      <td>Peripheral</td>\n      <td>4.8</td>\n      <td>[Horror, Sci-Fi]</td>\n      <td>89.0</td>\n      <td>tt5658672</td>\n      <td>224</td>\n      <td>2020-08-03</td>\n      <td>0</td>\n      <td>0</td>\n      <td>0</td>\n      <td>1</td>\n      <td>0</td>\n      <td>1</td>\n    </tr>\n    <tr>\n      <th>297</th>\n      <td>Mar</td>\n      <td>5.5</td>\n      <td>[Drama]</td>\n      <td>103.0</td>\n      <td>tt7490386</td>\n      <td>49</td>\n      <td>2019-05-16</td>\n      <td>1</td>\n      <td>0</td>\n      <td>0</td>\n      <td>0</td>\n      <td>0</td>\n      <td>0</td>\n    </tr>\n  </tbody>\n</table>\n</div>"
     },
     "execution_count": 386,
     "metadata": {},
     "output_type": "execute_result"
    }
   ],
   "source": [
    "df['date_ext'] = pd.to_datetime(df['date_ext'], format='%B %d, %Y', errors='coerce')\n",
    "df.head()"
   ],
   "metadata": {
    "collapsed": false,
    "ExecuteTime": {
     "end_time": "2023-11-20T04:22:20.443097Z",
     "start_time": "2023-11-20T04:22:20.407358Z"
    }
   },
   "id": "9aa68b83a94da023"
  },
  {
   "cell_type": "markdown",
   "source": [
    "### 2.2 Cr´eer 2 nouvelles colonnes dur´ee minutes log, nbre utilisateur note log.\n",
    "\n",
    "• Appliquer la fonction logarithmique sur la colonne dur´ee pour avoir la nouvelle colonne dur´ee minutes log.\n",
    "\n",
    "• Appliquer la fonction logarithmique sur la colonne nbre utilisateur note pour avoir la nouvelle colonne nbre utilisateur note log."
   ],
   "metadata": {
    "collapsed": false
   },
   "id": "6c2cc7d67abc9253"
  },
  {
   "cell_type": "code",
   "execution_count": 391,
   "outputs": [
    {
     "data": {
      "text/plain": "                   titre_film  utilisateur_note                genres_liste  \\\n102  Strangeways Here We Come               5.1             [Comedy, Crime]   \n258       Virndavani Vairagya               6.6                     [Drama]   \n259                Dirty Work               3.3  [Drama, Romance, Thriller]   \n280                Peripheral               4.8            [Horror, Sci-Fi]   \n297                       Mar               5.5                     [Drama]   \n\n     duree    id_film  nbre_utilisateur_note   date_ext  Drama  Comedy  \\\n102   86.0  tt4299774                    334 2018-10-05      0       1   \n258   91.0  tt9675282                     25 2018-04-03      1       0   \n259   73.0  tt7243754                    380 2018-02-03      1       0   \n280   89.0  tt5658672                    224 2020-08-03      0       0   \n297  103.0  tt7490386                     49 2019-05-16      1       0   \n\n     Thriller  Horror  Romance  autres_genres  duree_log  \\\n102         0       0        0              1   4.454347   \n258         0       0        0              0   4.510860   \n259         1       0        1              0   4.290459   \n280         0       1        0              1   4.488636   \n297         0       0        0              0   4.634729   \n\n     nbre_utilisateur_note_log  \n102                   5.811141  \n258                   3.218876  \n259                   5.940171  \n280                   5.411646  \n297                   3.891820  ",
      "text/html": "<div>\n<style scoped>\n    .dataframe tbody tr th:only-of-type {\n        vertical-align: middle;\n    }\n\n    .dataframe tbody tr th {\n        vertical-align: top;\n    }\n\n    .dataframe thead th {\n        text-align: right;\n    }\n</style>\n<table border=\"1\" class=\"dataframe\">\n  <thead>\n    <tr style=\"text-align: right;\">\n      <th></th>\n      <th>titre_film</th>\n      <th>utilisateur_note</th>\n      <th>genres_liste</th>\n      <th>duree</th>\n      <th>id_film</th>\n      <th>nbre_utilisateur_note</th>\n      <th>date_ext</th>\n      <th>Drama</th>\n      <th>Comedy</th>\n      <th>Thriller</th>\n      <th>Horror</th>\n      <th>Romance</th>\n      <th>autres_genres</th>\n      <th>duree_log</th>\n      <th>nbre_utilisateur_note_log</th>\n    </tr>\n  </thead>\n  <tbody>\n    <tr>\n      <th>102</th>\n      <td>Strangeways Here We Come</td>\n      <td>5.1</td>\n      <td>[Comedy, Crime]</td>\n      <td>86.0</td>\n      <td>tt4299774</td>\n      <td>334</td>\n      <td>2018-10-05</td>\n      <td>0</td>\n      <td>1</td>\n      <td>0</td>\n      <td>0</td>\n      <td>0</td>\n      <td>1</td>\n      <td>4.454347</td>\n      <td>5.811141</td>\n    </tr>\n    <tr>\n      <th>258</th>\n      <td>Virndavani Vairagya</td>\n      <td>6.6</td>\n      <td>[Drama]</td>\n      <td>91.0</td>\n      <td>tt9675282</td>\n      <td>25</td>\n      <td>2018-04-03</td>\n      <td>1</td>\n      <td>0</td>\n      <td>0</td>\n      <td>0</td>\n      <td>0</td>\n      <td>0</td>\n      <td>4.510860</td>\n      <td>3.218876</td>\n    </tr>\n    <tr>\n      <th>259</th>\n      <td>Dirty Work</td>\n      <td>3.3</td>\n      <td>[Drama, Romance, Thriller]</td>\n      <td>73.0</td>\n      <td>tt7243754</td>\n      <td>380</td>\n      <td>2018-02-03</td>\n      <td>1</td>\n      <td>0</td>\n      <td>1</td>\n      <td>0</td>\n      <td>1</td>\n      <td>0</td>\n      <td>4.290459</td>\n      <td>5.940171</td>\n    </tr>\n    <tr>\n      <th>280</th>\n      <td>Peripheral</td>\n      <td>4.8</td>\n      <td>[Horror, Sci-Fi]</td>\n      <td>89.0</td>\n      <td>tt5658672</td>\n      <td>224</td>\n      <td>2020-08-03</td>\n      <td>0</td>\n      <td>0</td>\n      <td>0</td>\n      <td>1</td>\n      <td>0</td>\n      <td>1</td>\n      <td>4.488636</td>\n      <td>5.411646</td>\n    </tr>\n    <tr>\n      <th>297</th>\n      <td>Mar</td>\n      <td>5.5</td>\n      <td>[Drama]</td>\n      <td>103.0</td>\n      <td>tt7490386</td>\n      <td>49</td>\n      <td>2019-05-16</td>\n      <td>1</td>\n      <td>0</td>\n      <td>0</td>\n      <td>0</td>\n      <td>0</td>\n      <td>0</td>\n      <td>4.634729</td>\n      <td>3.891820</td>\n    </tr>\n  </tbody>\n</table>\n</div>"
     },
     "execution_count": 391,
     "metadata": {},
     "output_type": "execute_result"
    }
   ],
   "source": [
    "df['duree_log'] = np.log(df['duree'])\n",
    "df['nbre_utilisateur_note_log'] = np.log(df['nbre_utilisateur_note'])\n",
    "df.head()"
   ],
   "metadata": {
    "collapsed": false,
    "ExecuteTime": {
     "end_time": "2023-11-20T04:40:05.304913Z",
     "start_time": "2023-11-20T04:40:05.268131Z"
    }
   },
   "id": "b1609e4ba4b2e54f"
  },
  {
   "cell_type": "markdown",
   "source": [
    "### 2.3 R´ealiser une analyse univari´ee compl`ete avec les visualisations ad´equates et interpr´eter les r´esultats."
   ],
   "metadata": {
    "collapsed": false
   },
   "id": "892f4c1974637ffa"
  },
  {
   "cell_type": "code",
   "execution_count": 393,
   "outputs": [
    {
     "data": {
      "text/plain": "<Figure size 1000x400 with 1 Axes>",
      "image/png": "[encoded data removed]"
     },
     "metadata": {},
     "output_type": "display_data"
    },
    {
     "data": {
      "text/plain": "<Figure size 1000x400 with 1 Axes>",
      "image/png": "[encoded data removed]"
     },
     "metadata": {},
     "output_type": "display_data"
    },
    {
     "name": "stdout",
     "output_type": "stream",
     "text": [
      "count    7847.000000\n",
      "mean        4.496131\n",
      "std         0.240010\n",
      "min         3.806662\n",
      "25%         4.382027\n",
      "50%         4.499810\n",
      "75%         4.644391\n",
      "max         4.990433\n",
      "Name: duree_log, dtype: float64\n"
     ]
    }
   ],
   "source": [
    "# Analyse d'une variable numérique\n",
    "plt.figure(figsize=(10, 4))\n",
    "sns.histplot(df['duree_log'], kde=True)\n",
    "plt.title('Distribution de duree_log')\n",
    "plt.show()\n",
    "\n",
    "plt.figure(figsize=(10, 4))\n",
    "sns.boxplot(x=df['duree_log'])\n",
    "plt.title('Boxplot de duree_log')\n",
    "plt.show()\n",
    "\n",
    "# Afficher les statistiques descriptives\n",
    "print(df['duree_log'].describe())"
   ],
   "metadata": {
    "collapsed": false,
    "ExecuteTime": {
     "end_time": "2023-11-20T04:58:11.972452Z",
     "start_time": "2023-11-20T04:58:11.389097Z"
    }
   },
   "id": "baf85b9355a07ff9"
  },
  {
   "cell_type": "markdown",
   "source": [
    "L'histogramme montre la distribution des valeurs logarithmiques de la durée des films. La courbe en cloche superposée suggère que la distribution des logarithmes des durées est relativement symétrique et pourrait suivre une distribution normale, ce qui est souvent le cas après une transformation logarithmique lorsque les données originales sont biaisées. La concentration des données autour de la moyenne indique qu'il existe une durée de film typique lorsqu'on considère le logarithme de la durée.\n",
    "Le boxplot montre également la distribution des valeurs logarithmiques de la durée. La boîte représente l'étendue interquartile (IQR), avec la ligne médiane indiquant la médiane des données. Les moustaches s'étendent jusqu'aux valeurs les plus éloignées dans l'IQR, et les points en dehors de cela sont considérés comme des valeurs aberrantes. Le boxplot montre quelques valeurs aberrantes sur le côté inférieur, indiquant quelques films avec des durées exceptionnellement courtes.\n",
    "Les statistiques descriptives montrent que la moyenne des valeurs logarithmiques est d'environ 4.46, avec un écart-type d'environ 0.24, ce qui indique une variabilité modérée autour de la moyenne. Le minimum et le maximum sont respectivement de 3.86 et de près de 5.0, ce qui montre l'étendue des données.\n",
    "\n",
    "En résumé, ces visualisations et statistiques fournissent une vue complète de la distribution logarithmique de la durée des films. La transformation logarithmique semble avoir normalisé la distribution, ce qui peut être utile pour des analyses statistiques qui supposent une normalité des données, comme de nombreux tests paramétriques. Les valeurs aberrantes basses pourraient être dû à des erreurs de données ou à des films particulièrement courts qui peuvent mériter une enquête supplémentaire."
   ],
   "metadata": {
    "collapsed": false
   },
   "id": "fd3efd45942eb585"
  },
  {
   "cell_type": "markdown",
   "source": [
    "### 2.4 R´ealiser une analyse bivari´ee compl`ete avec les visualisations ad´equates et interpr´eter les r´esultats."
   ],
   "metadata": {
    "collapsed": false
   },
   "id": "1140b34cd3f8d467"
  },
  {
   "cell_type": "code",
   "execution_count": null,
   "outputs": [],
   "source": [],
   "metadata": {
    "collapsed": false
   },
   "id": "5418042f80cd54f8"
  }
 ],
 "metadata": {
  "kernelspec": {
   "display_name": "Python 3",
   "language": "python",
   "name": "python3"
  },
  "language_info": {
   "codemirror_mode": {
    "name": "ipython",
    "version": 2
   },
   "file_extension": ".py",
   "mimetype": "text/x-python",
   "name": "python",
   "nbconvert_exporter": "python",
   "pygments_lexer": "ipython2",
   "version": "2.7.6"
  }
 },
 "nbformat": 4,
 "nbformat_minor": 5
}
